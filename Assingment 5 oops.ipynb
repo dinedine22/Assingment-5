{
 "cells": [
  {
   "cell_type": "markdown",
   "id": "32972fe3",
   "metadata": {},
   "source": [
    "# 1.Square Numbers and Return Their sum"
   ]
  },
  {
   "cell_type": "markdown",
   "id": "f3c59071",
   "metadata": {},
   "source": [
    "# Answer:"
   ]
  },
  {
   "cell_type": "code",
   "execution_count": 5,
   "id": "57623e39",
   "metadata": {},
   "outputs": [
    {
     "name": "stdout",
     "output_type": "stream",
     "text": [
      "(4, 16, 25)\n",
      "45\n"
     ]
    }
   ],
   "source": [
    "class squ:\n",
    "    def __init__(self,x,y,z):\n",
    "        self.x=x**2\n",
    "        self.y=y**2\n",
    "        self.z=z**2\n",
    "    def square(self):\n",
    "        return(self.x,self.y,self.z)\n",
    "    def sqsum(self):\n",
    "        sum=(self.x+self.y+self.z)\n",
    "        return(sum)\n",
    "x=squ(2,4,5)\n",
    "print(x.square())\n",
    "print(x.sqsum())"
   ]
  },
  {
   "cell_type": "markdown",
   "id": "2b19eb3b",
   "metadata": {},
   "source": [
    "# 2.Implement a Calculator class"
   ]
  },
  {
   "cell_type": "markdown",
   "id": "ad13498a",
   "metadata": {},
   "source": [
    "# Answer:"
   ]
  },
  {
   "cell_type": "code",
   "execution_count": 4,
   "id": "10d626bf",
   "metadata": {},
   "outputs": [
    {
     "name": "stdout",
     "output_type": "stream",
     "text": [
      "('add value is ', 130)\n",
      "('subtraction value is ', 94)\n",
      "('multiply value is ', 2016)\n",
      "('division value is ', 6.222222222222222)\n"
     ]
    }
   ],
   "source": [
    "class calculator:\n",
    "    def __init__(self,x,y):\n",
    "        self.x=x\n",
    "        self.y=y\n",
    "    def add(self):\n",
    "        return(\"add value is \",self.x+self.y)\n",
    "    def sub(self):\n",
    "        return(\"subtraction value is \",self.x-self.y)\n",
    "    def multiply(self):\n",
    "        return(\"multiply value is \",self.x*self.y)\n",
    "    def division(self):\n",
    "        return(\"division value is \",self.x/self.y)\n",
    "obj=calculator(112,18)\n",
    "print(obj.add())\n",
    "print(obj.sub())\n",
    "print(obj.multiply())\n",
    "print(obj.division())"
   ]
  },
  {
   "cell_type": "markdown",
   "id": "28fe3576",
   "metadata": {},
   "source": [
    "# 3.Implement the Complement student class"
   ]
  },
  {
   "cell_type": "markdown",
   "id": "c0b5db32",
   "metadata": {},
   "source": [
    "# Ans:"
   ]
  },
  {
   "cell_type": "code",
   "execution_count": 3,
   "id": "5cc2b451",
   "metadata": {},
   "outputs": [
    {
     "name": "stdout",
     "output_type": "stream",
     "text": [
      "name of the student is  dinesh\n",
      "roll no. of the student is  702\n"
     ]
    }
   ],
   "source": [
    "class Student:\n",
    "    def get_details(self):\n",
    "        return self.__details\n",
    "    def set_details(self,x,y):\n",
    "        print(\"name of the student is \",x)\n",
    "        print(\"roll no. of the student is \",y)\n",
    "        self.__deatils=x,y\n",
    "Identity=Student()\n",
    "Identity.set_details(\"dinesh\",\"702\")"
   ]
  },
  {
   "cell_type": "markdown",
   "id": "92e013ea",
   "metadata": {},
   "source": [
    "# 4.Implement  a Banking Account"
   ]
  },
  {
   "cell_type": "markdown",
   "id": "84361a61",
   "metadata": {},
   "source": [
    "# Answer"
   ]
  },
  {
   "cell_type": "code",
   "execution_count": 2,
   "id": "3021df87",
   "metadata": {},
   "outputs": [
    {
     "name": "stdout",
     "output_type": "stream",
     "text": [
      "name of the holder is  dinesh\n",
      "balance in your account is  500\n",
      "None\n",
      "the interest amount you will get is  25\n",
      "None\n"
     ]
    }
   ],
   "source": [
    "class account:\n",
    "    def __init__(self,name,balance,interest_rate):\n",
    "        self.name=name\n",
    "        self.balance=balance\n",
    "        self.interest_rate=interest_rate\n",
    "        \n",
    "    def current_account(self,balance=0):\n",
    "        deposite=int(self.balance)\n",
    "        self.balance=balance+deposite\n",
    "        print(\"name of the holder is \",self.name)\n",
    "        print(\"balance in your account is \", self.balance)\n",
    "    def savings_account(self,interset_rate=0):\n",
    "        interset=int(self.interest_rate)\n",
    "        interset1=(int(self.balance)*int(self.interest_rate)//100)\n",
    "        print(\"the interest amount you will get is \",interset1)\n",
    "x=account(\"dinesh\",500,5)\n",
    "print(x.current_account())\n",
    "print(x.savings_account())"
   ]
  },
  {
   "cell_type": "markdown",
   "id": "1356b65c",
   "metadata": {},
   "source": [
    "# 5.Handling a Bank Account"
   ]
  },
  {
   "cell_type": "markdown",
   "id": "6c5cfc3f",
   "metadata": {},
   "source": [
    "# Answer"
   ]
  },
  {
   "cell_type": "code",
   "execution_count": 1,
   "id": "0ff8a64e",
   "metadata": {},
   "outputs": [
    {
     "name": "stdout",
     "output_type": "stream",
     "text": [
      "name of the holder is  dinesh\n",
      "balance in your account is  3000\n",
      "None\n",
      "you done a withdrawl amount of  1000\n",
      "now your current balance is  2000\n",
      "None\n",
      "the interest amount you will get is  100\n",
      "None\n"
     ]
    }
   ],
   "source": [
    "class account:\n",
    "    def __init__(self,name,balance,withdraw,interest_rate):\n",
    "        self.name=name\n",
    "        self.balance=balance\n",
    "        self.withdraw=withdraw\n",
    "        self.interest_rate=interest_rate\n",
    "        \n",
    "        \n",
    "    def current_account(self,balance=0):\n",
    "        balance=self.balance\n",
    "        print(\"name of the holder is \",self.name)\n",
    "        print(\"balance in your account is \", self.balance)\n",
    "        \n",
    "  \n",
    "        \n",
    "    def account_withdraw(self):\n",
    "        withdraw=int(self.withdraw)\n",
    "        balance=(self.balance-self.withdraw)\n",
    "        print(\"you done a withdrawl amount of \",self.withdraw)\n",
    "        print(\"now your current balance is \",balance)\n",
    "        \n",
    "    def savings_account(self,interset_rate=0):\n",
    "        interset=int(self.interest_rate)\n",
    "        balance=(self.balance-self.withdraw)\n",
    "        interset1=(balance*int(self.interest_rate)//100)\n",
    "        print(\"the interest amount you will get is \",interset1)\n",
    "        \n",
    "x=account(\"dinesh\",3000,1000,5)\n",
    "print(x.current_account())\n",
    "print(x.account_withdraw())\n",
    "print(x.savings_account())"
   ]
  },
  {
   "cell_type": "code",
   "execution_count": null,
   "id": "47062984",
   "metadata": {},
   "outputs": [],
   "source": []
  },
  {
   "cell_type": "code",
   "execution_count": null,
   "id": "59eb1d4b",
   "metadata": {},
   "outputs": [],
   "source": []
  },
  {
   "cell_type": "code",
   "execution_count": null,
   "id": "2d7d5865",
   "metadata": {},
   "outputs": [],
   "source": []
  },
  {
   "cell_type": "code",
   "execution_count": null,
   "id": "b87e25e9",
   "metadata": {},
   "outputs": [],
   "source": []
  },
  {
   "cell_type": "code",
   "execution_count": null,
   "id": "7778e45e",
   "metadata": {},
   "outputs": [],
   "source": []
  },
  {
   "cell_type": "code",
   "execution_count": null,
   "id": "d3693695",
   "metadata": {},
   "outputs": [],
   "source": []
  },
  {
   "cell_type": "code",
   "execution_count": null,
   "id": "90aab327",
   "metadata": {},
   "outputs": [],
   "source": []
  },
  {
   "cell_type": "code",
   "execution_count": null,
   "id": "943d4546",
   "metadata": {},
   "outputs": [],
   "source": []
  },
  {
   "cell_type": "code",
   "execution_count": null,
   "id": "78db5e1f",
   "metadata": {},
   "outputs": [],
   "source": []
  },
  {
   "cell_type": "code",
   "execution_count": null,
   "id": "98576808",
   "metadata": {},
   "outputs": [],
   "source": []
  },
  {
   "cell_type": "code",
   "execution_count": null,
   "id": "1ff7d5c1",
   "metadata": {},
   "outputs": [],
   "source": []
  },
  {
   "cell_type": "code",
   "execution_count": null,
   "id": "ed5b774a",
   "metadata": {},
   "outputs": [],
   "source": []
  },
  {
   "cell_type": "code",
   "execution_count": null,
   "id": "51fe9348",
   "metadata": {},
   "outputs": [],
   "source": []
  },
  {
   "cell_type": "code",
   "execution_count": null,
   "id": "1442af28",
   "metadata": {},
   "outputs": [],
   "source": []
  },
  {
   "cell_type": "code",
   "execution_count": null,
   "id": "e964addf",
   "metadata": {},
   "outputs": [],
   "source": []
  },
  {
   "cell_type": "code",
   "execution_count": null,
   "id": "0c5fd948",
   "metadata": {},
   "outputs": [],
   "source": []
  },
  {
   "cell_type": "code",
   "execution_count": null,
   "id": "0fa3947f",
   "metadata": {},
   "outputs": [],
   "source": []
  },
  {
   "cell_type": "code",
   "execution_count": null,
   "id": "f8252006",
   "metadata": {},
   "outputs": [],
   "source": []
  },
  {
   "cell_type": "code",
   "execution_count": null,
   "id": "8587b038",
   "metadata": {},
   "outputs": [],
   "source": []
  },
  {
   "cell_type": "code",
   "execution_count": null,
   "id": "4ea99d6b",
   "metadata": {},
   "outputs": [],
   "source": []
  }
 ],
 "metadata": {
  "kernelspec": {
   "display_name": "Python 3 (ipykernel)",
   "language": "python",
   "name": "python3"
  },
  "language_info": {
   "codemirror_mode": {
    "name": "ipython",
    "version": 3
   },
   "file_extension": ".py",
   "mimetype": "text/x-python",
   "name": "python",
   "nbconvert_exporter": "python",
   "pygments_lexer": "ipython3",
   "version": "3.9.13"
  }
 },
 "nbformat": 4,
 "nbformat_minor": 5
}
